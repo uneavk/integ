{
 "cells": [
  {
   "cell_type": "markdown",
   "id": "458d7238",
   "metadata": {},
   "source": [
    "# Khilko Viktoria K-23, Lab work№3"
   ]
  },
  {
   "cell_type": "code",
   "execution_count": 1,
   "id": "135461e2",
   "metadata": {},
   "outputs": [],
   "source": [
    "import numpy as np"
   ]
  },
  {
   "attachments": {},
   "cell_type": "markdown",
   "id": "0c2ce0c5",
   "metadata": {},
   "source": [
    "1."
   ]
  },
  {
   "cell_type": "code",
   "execution_count": 2,
   "id": "c3e353df",
   "metadata": {},
   "outputs": [
    {
     "name": "stdout",
     "output_type": "stream",
     "text": [
      "Input upper_limit value for phi: 12\n",
      "Input value of parameter a: 4\n",
      "Input value of parameter b: 45\n",
      "The final result = 2168.1680867149557\n"
     ]
    }
   ],
   "source": [
    "teta_low = 0\n",
    "teta_high = np.pi / 2\n",
    "\n",
    "phi_low = 0 \n",
    "\n",
    "phi_high = float(input('Input upper_limit value for phi: '))\n",
    "\n",
    "a = float(input('Input value of parameter a: '))\n",
    "\n",
    "b = float(input('Input value of parameter b: '))\n",
    "\n",
    "N = 1_000_000\n",
    "\n",
    "def func1(teta,a,b):\n",
    "    return np.sqrt(a*a * np.cos(teta) ** 2 * (a*a + b*b))\n",
    "\n",
    "\n",
    "random_values_teta = np.random.uniform(teta_low,teta_high,N)\n",
    "\n",
    "inner_integral_sum = 0\n",
    "\n",
    "for i in range(N):  \n",
    "    inner_integral_sum += func1(random_values_teta[i],a,b)\n",
    "    \n",
    "inner_integral_value = (teta_high - teta_low) / float(N) * inner_integral_sum \n",
    "\n",
    "outer_integral_value = inner_integral_value * phi_high\n",
    "\n",
    "print(f\"The final result = {outer_integral_value}\")\n"
   ]
  },
  {
   "attachments": {},
   "cell_type": "markdown",
   "id": "dee79ff4",
   "metadata": {},
   "source": [
    "2."
   ]
  },
  {
   "cell_type": "code",
   "execution_count": 3,
   "id": "546c377c",
   "metadata": {},
   "outputs": [
    {
     "name": "stdout",
     "output_type": "stream",
     "text": [
      "Input the radius value: 12\n",
      "V1: 11733.383415109658\n",
      "V2: 2932.8756668871806\n"
     ]
    }
   ],
   "source": [
    "def func_v1(x, y, r):\n",
    "    return 8 * np.sqrt(r**2 - x**2)\n",
    "\n",
    "def func_v2(x, y, r):\n",
    "    return 16 * r / np.sqrt(r**2 - x**2)\n",
    "\n",
    "def in_domain(x, y, r):\n",
    "    return y <= np.sqrt(r**2 - x**2)\n",
    "\n",
    "def monte_carlo_integration(func, x_lower, x_upper, y_lower, y_upper, r, N):\n",
    "    x_samples = np.random.uniform(x_lower, x_upper, N)\n",
    "    y_samples = np.random.uniform(y_lower, y_upper, N)\n",
    "\n",
    "    in_domain_mask = in_domain(x_samples, y_samples, r)\n",
    "    x_samples = x_samples[in_domain_mask]\n",
    "    y_samples = y_samples[in_domain_mask]\n",
    "\n",
    "    func_values = func(x_samples, y_samples, r)\n",
    "\n",
    "    result = (x_upper - x_lower) * (y_upper - y_lower) * np.mean(func_values)\n",
    "    return result\n",
    "\n",
    "radius = float(input(\"Input the radius value: \"))\n",
    "N = 1000000\n",
    "\n",
    "x_lower = 0\n",
    "x_upper = radius\n",
    "y_lower = 0\n",
    "y_upper = np.sqrt(radius**2 - x_lower**2)\n",
    "\n",
    "result_v1 = monte_carlo_integration(func_v1, x_lower, x_upper, y_lower, y_upper, radius, N)\n",
    "print(\"V1:\", result_v1)\n",
    "\n",
    "result_v2 = monte_carlo_integration(func_v2, x_lower, x_upper, y_lower, y_upper, radius, N)\n",
    "print(\"V2:\", result_v2)"
   ]
  },
  {
   "attachments": {},
   "cell_type": "markdown",
   "id": "961438ca",
   "metadata": {},
   "source": [
    "3."
   ]
  },
  {
   "cell_type": "code",
   "execution_count": 4,
   "id": "aabcaa46",
   "metadata": {},
   "outputs": [
    {
     "name": "stdout",
     "output_type": "stream",
     "text": [
      "For x = 0.9, integral = 0.31594044571039986\n",
      "For x = 0.18, integral = 0.07142361742596842\n",
      "For x = 0.27, integral = 0.10641983581113937\n",
      "For x = 0.36, integral = 0.1405805189790871\n",
      "For x = 0.45, integral = 0.1736484989830917\n"
     ]
    }
   ],
   "source": [
    "m = 9\n",
    "x_values = [0.9,0.18,0.27,0.36,0.45]\n",
    "a = 0\n",
    "N = 1_000_000\n",
    "def func3(u):\n",
    "    return np.exp(- u * u / 2)\n",
    "\n",
    "for x in x_values:\n",
    "    random_values_u = np.random.uniform(a,x,N) \n",
    "    summa = 0\n",
    "    for i in range(N):  \n",
    "         summa += func3(random_values_u[i])\n",
    "    solution = 1 / np.sqrt(2 * np.pi) * (x-a) / float(N) * summa\n",
    "    print(f\"For x = {x}, integral = {solution}\")"
   ]
  },
  {
   "attachments": {},
   "cell_type": "markdown",
   "id": "a896e126",
   "metadata": {},
   "source": [
    "4."
   ]
  },
  {
   "cell_type": "code",
   "execution_count": 5,
   "id": "d5978882",
   "metadata": {},
   "outputs": [
    {
     "name": "stdout",
     "output_type": "stream",
     "text": [
      "The approximate value of the integral for n = 0.5 is 2.280340010389905\n",
      "The approximate value of the integral for n = 1 is 1.0455876502317842\n",
      "The approximate value of the integral for n = 1.5 is 0.9081121138482348\n",
      "The approximate value of the integral for n = 2 is 1.0364365157126347\n"
     ]
    }
   ],
   "source": [
    "a = 0\n",
    "b = 10000\n",
    "N = 1000000\n",
    "\n",
    "random_values = np.random.uniform(a, b, N)\n",
    "\n",
    "parameters_n = [0.5, 1, 1.5, 2]\n",
    "\n",
    "def fun(x, n):\n",
    "        return x**(n - 1) * np.exp(-x)\n",
    "\n",
    "for n in parameters_n:\n",
    "\n",
    "    integral_approximation = np.mean(fun(random_values, n)) * (b - a)\n",
    "\n",
    "    print(f\"The approximate value of the integral for n = {n} is {integral_approximation}\")"
   ]
  },
  {
   "attachments": {},
   "cell_type": "markdown",
   "id": "f5fc4faa",
   "metadata": {},
   "source": [
    "5."
   ]
  },
  {
   "cell_type": "code",
   "execution_count": 10,
   "id": "2cbfb0e4",
   "metadata": {},
   "outputs": [
    {
     "name": "stdout",
     "output_type": "stream",
     "text": [
      "The approximate value of the integral is -0.5746153507756929\n"
     ]
    }
   ],
   "source": [
    "def generate_random_values(a, b, N):\n",
    "    return np.random.uniform(a, b, N)\n",
    "\n",
    "def custom_function(x):\n",
    "    return np.exp(-x) * np.log(x)\n",
    "\n",
    "def calculate_integral_approximation(random_values, a, b):\n",
    "    interval_width = b - a\n",
    "    values = custom_function(random_values)\n",
    "    integral_approximation = np.mean(values) * interval_width\n",
    "    return integral_approximation\n",
    "\n",
    "a1 = 0\n",
    "b1 = 100\n",
    "N1 = 1000000\n",
    "\n",
    "random_values = generate_random_values(a1, b1, N1)\n",
    "integral_approximation = calculate_integral_approximation(random_values, a1, b1)\n",
    "\n",
    "print(f\"The approximate value of the integral is {integral_approximation}\")\n"
   ]
  }
 ],
 "metadata": {
  "kernelspec": {
   "display_name": "Python 3 (ipykernel)",
   "language": "python",
   "name": "python3"
  },
  "language_info": {
   "codemirror_mode": {
    "name": "ipython",
    "version": 3
   },
   "file_extension": ".py",
   "mimetype": "text/x-python",
   "name": "python",
   "nbconvert_exporter": "python",
   "pygments_lexer": "ipython3",
   "version": "3.11.1"
  }
 },
 "nbformat": 4,
 "nbformat_minor": 5
}
